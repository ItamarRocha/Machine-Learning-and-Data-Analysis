{
 "cells": [
  {
   "cell_type": "code",
   "execution_count": 1,
   "id": "e3fd4307",
   "metadata": {},
   "outputs": [],
   "source": [
    "import torch\n",
    "from torch import nn"
   ]
  },
  {
   "cell_type": "code",
   "execution_count": 2,
   "id": "24f44765",
   "metadata": {},
   "outputs": [],
   "source": [
    "# neuron\n",
    "def neuron(input_data):\n",
    "    \n",
    "    W = torch.tensor([0.5,0.5,0.5])\n",
    "    b = torch.tensor([0.5])\n",
    "    \n",
    "    return torch.matmul(input_data, W) + b"
   ]
  },
  {
   "cell_type": "code",
   "execution_count": 3,
   "id": "659559f5",
   "metadata": {},
   "outputs": [
    {
     "data": {
      "text/plain": [
       "tensor([3.5000])"
      ]
     },
     "execution_count": 3,
     "metadata": {},
     "output_type": "execute_result"
    }
   ],
   "source": [
    "neuron(torch.tensor([1,2,3], dtype=torch.float32))"
   ]
  },
  {
   "cell_type": "code",
   "execution_count": 4,
   "id": "8a50a88f",
   "metadata": {},
   "outputs": [
    {
     "data": {
      "text/plain": [
       "ReLU()"
      ]
     },
     "execution_count": 4,
     "metadata": {},
     "output_type": "execute_result"
    }
   ],
   "source": [
    "nn.ReLU()"
   ]
  },
  {
   "cell_type": "code",
   "execution_count": 5,
   "id": "067ff810",
   "metadata": {},
   "outputs": [],
   "source": [
    "# NN\n",
    "def fnn(input):\n",
    "    model = nn.Sequential(\n",
    "        nn.Linear(10,128),\n",
    "        nn.ReLU(),\n",
    "        nn.Linear(128,64),\n",
    "        nn.ReLU(),\n",
    "        nn.Linear(64,2)\n",
    "    )\n",
    "\n",
    "    return model(input)"
   ]
  },
  {
   "cell_type": "code",
   "execution_count": 6,
   "id": "8d37fa84",
   "metadata": {},
   "outputs": [
    {
     "data": {
      "text/plain": [
       "tensor([-0.0096,  0.1536], grad_fn=<AddBackward0>)"
      ]
     },
     "execution_count": 6,
     "metadata": {},
     "output_type": "execute_result"
    }
   ],
   "source": [
    "res = fnn(torch.tensor([0.2000, 0.4000, 0.2000, 0.4000, 0.2000, 0.4000, 0.2000, 0.4000, 0.2000, 0.4000]))\n",
    "res"
   ]
  },
  {
   "cell_type": "markdown",
   "id": "d14cebc8",
   "metadata": {},
   "source": [
    "## Exercise activation functions"
   ]
  },
  {
   "cell_type": "code",
   "execution_count": 40,
   "id": "0850af2c",
   "metadata": {},
   "outputs": [],
   "source": [
    "import torch\n",
    "\n",
    "seed = 172\n",
    "torch.manual_seed(seed)\n",
    "\n",
    "\n",
    "def m_sigmoid(x):\n",
    "    return 1 / (1 + torch.exp(-x))\n",
    "\n",
    "def m_tanh(x):\n",
    "    return (torch.exp(x) - torch.exp(-x)) / (torch.exp(x) + torch.exp(-x))\n",
    "\n",
    "\n",
    "def m_relu(x):\n",
    "    return torch.max(test,torch.tensor(0)) # or torch.mul(x, (x>0))\n",
    "\n",
    "\n",
    "def m_softmax(x):\n",
    "    return torch.exp(x)/ torch.sum(torch.exp(x))"
   ]
  },
  {
   "cell_type": "code",
   "execution_count": 41,
   "id": "9bfe36a3",
   "metadata": {},
   "outputs": [],
   "source": [
    "test = torch.tensor([0.2000, 0.6000, -0.2000, 0.4000, 0.2000, 0.4000, 0.2000, 0.4000, 0.2000, 0.4000])"
   ]
  },
  {
   "cell_type": "code",
   "execution_count": 42,
   "id": "6ced2dcc",
   "metadata": {},
   "outputs": [
    {
     "data": {
      "text/plain": [
       "tensor([0.5498, 0.6457, 0.4502, 0.5987, 0.5498, 0.5987, 0.5498, 0.5987, 0.5498,\n",
       "        0.5987])"
      ]
     },
     "execution_count": 42,
     "metadata": {},
     "output_type": "execute_result"
    }
   ],
   "source": [
    "m_sigmoid(test)"
   ]
  },
  {
   "cell_type": "code",
   "execution_count": 43,
   "id": "aeadc25e",
   "metadata": {},
   "outputs": [
    {
     "data": {
      "text/plain": [
       "tensor([ 0.1974,  0.5370, -0.1974,  0.3799,  0.1974,  0.3799,  0.1974,  0.3799,\n",
       "         0.1974,  0.3799])"
      ]
     },
     "execution_count": 43,
     "metadata": {},
     "output_type": "execute_result"
    }
   ],
   "source": [
    "m_tanh(test)"
   ]
  },
  {
   "cell_type": "code",
   "execution_count": 44,
   "id": "8426105d",
   "metadata": {},
   "outputs": [
    {
     "data": {
      "text/plain": [
       "tensor([0.2000, 0.6000, 0.0000, 0.4000, 0.2000, 0.4000, 0.2000, 0.4000, 0.2000,\n",
       "        0.4000])"
      ]
     },
     "execution_count": 44,
     "metadata": {},
     "output_type": "execute_result"
    }
   ],
   "source": [
    "m_relu(test)"
   ]
  },
  {
   "cell_type": "code",
   "execution_count": 45,
   "id": "f48fbb44",
   "metadata": {},
   "outputs": [
    {
     "data": {
      "text/plain": [
       "tensor([0.0905, 0.1350, 0.0607, 0.1106, 0.0905, 0.1106, 0.0905, 0.1106, 0.0905,\n",
       "        0.1106])"
      ]
     },
     "execution_count": 45,
     "metadata": {},
     "output_type": "execute_result"
    }
   ],
   "source": [
    "m_softmax(test)"
   ]
  }
 ],
 "metadata": {
  "kernelspec": {
   "display_name": "Python 3",
   "language": "python",
   "name": "python3"
  },
  "language_info": {
   "codemirror_mode": {
    "name": "ipython",
    "version": 3
   },
   "file_extension": ".py",
   "mimetype": "text/x-python",
   "name": "python",
   "nbconvert_exporter": "python",
   "pygments_lexer": "ipython3",
   "version": "3.6.13"
  }
 },
 "nbformat": 4,
 "nbformat_minor": 5
}
