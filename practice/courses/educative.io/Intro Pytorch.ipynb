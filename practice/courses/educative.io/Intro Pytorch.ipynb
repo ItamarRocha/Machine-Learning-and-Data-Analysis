{
 "cells": [
  {
   "cell_type": "code",
   "execution_count": 1,
   "id": "e3fd4307",
   "metadata": {},
   "outputs": [],
   "source": [
    "import torch\n",
    "from torch import nn"
   ]
  },
  {
   "cell_type": "code",
   "execution_count": 2,
   "id": "24f44765",
   "metadata": {},
   "outputs": [],
   "source": [
    "# neuron\n",
    "def neuron(input_data):\n",
    "    \n",
    "    W = torch.tensor([0.5,0.5,0.5])\n",
    "    b = torch.tensor([0.5])\n",
    "    \n",
    "    return torch.matmul(input_data, W) + b"
   ]
  },
  {
   "cell_type": "code",
   "execution_count": 3,
   "id": "659559f5",
   "metadata": {},
   "outputs": [
    {
     "data": {
      "text/plain": [
       "tensor([3.5000])"
      ]
     },
     "execution_count": 3,
     "metadata": {},
     "output_type": "execute_result"
    }
   ],
   "source": [
    "neuron(torch.tensor([1,2,3], dtype=torch.float32))"
   ]
  },
  {
   "cell_type": "code",
   "execution_count": 4,
   "id": "8a50a88f",
   "metadata": {},
   "outputs": [
    {
     "data": {
      "text/plain": [
       "ReLU()"
      ]
     },
     "execution_count": 4,
     "metadata": {},
     "output_type": "execute_result"
    }
   ],
   "source": [
    "nn.ReLU()"
   ]
  },
  {
   "cell_type": "code",
   "execution_count": 12,
   "id": "067ff810",
   "metadata": {},
   "outputs": [],
   "source": [
    "# NN\n",
    "def fnn(input):\n",
    "    model = nn.Sequential(\n",
    "        nn.Linear(10,128),\n",
    "        nn.ReLU(),\n",
    "        nn.Linear(128,64),\n",
    "        nn.ReLU(),\n",
    "        nn.Linear(64,2)\n",
    "    )\n",
    "\n",
    "    return model(input)"
   ]
  },
  {
   "cell_type": "code",
   "execution_count": 6,
   "id": "8d37fa84",
   "metadata": {},
   "outputs": [
    {
     "data": {
      "text/plain": [
       "tensor([0.0006, 0.1282], grad_fn=<AddBackward0>)"
      ]
     },
     "execution_count": 6,
     "metadata": {},
     "output_type": "execute_result"
    }
   ],
   "source": [
    "res = fnn(torch.tensor([0.2000, 0.4000, 0.2000, 0.4000, 0.2000, 0.4000, 0.2000, 0.4000, 0.2000, 0.4000]))\n",
    "res"
   ]
  }
 ],
 "metadata": {
  "kernelspec": {
   "display_name": "Python 3",
   "language": "python",
   "name": "python3"
  },
  "language_info": {
   "codemirror_mode": {
    "name": "ipython",
    "version": 3
   },
   "file_extension": ".py",
   "mimetype": "text/x-python",
   "name": "python",
   "nbconvert_exporter": "python",
   "pygments_lexer": "ipython3",
   "version": "3.6.13"
  }
 },
 "nbformat": 4,
 "nbformat_minor": 5
}
