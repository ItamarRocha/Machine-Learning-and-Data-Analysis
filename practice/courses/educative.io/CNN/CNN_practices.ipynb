{
 "cells": [
  {
   "cell_type": "code",
   "execution_count": 1,
   "id": "52972b32",
   "metadata": {},
   "outputs": [],
   "source": [
    "import torch"
   ]
  },
  {
   "cell_type": "code",
   "execution_count": 2,
   "id": "ce21906f",
   "metadata": {},
   "outputs": [],
   "source": [
    "def conv2d(image, kernel):\n",
    "    output = torch.zeros(len(image) - len(kernel) + 1,len(image[0]) - len(kernel[0]) + 1)\n",
    "    for i in range(len(output)):\n",
    "        for j in range(len(output[0])):\n",
    "            output[i][j] = torch.sum(image[i:i+len(kernel),j:j+len(kernel[0])] * kernel)\n",
    "            \n",
    "    return output"
   ]
  },
  {
   "cell_type": "code",
   "execution_count": 3,
   "id": "d3abcd66",
   "metadata": {},
   "outputs": [],
   "source": [
    "image = torch.ones(12,3)"
   ]
  },
  {
   "cell_type": "code",
   "execution_count": 4,
   "id": "804d4ae9",
   "metadata": {},
   "outputs": [
    {
     "data": {
      "text/plain": [
       "tensor([[1., 1., 1.],\n",
       "        [1., 1., 1.],\n",
       "        [1., 1., 1.],\n",
       "        [1., 1., 1.],\n",
       "        [1., 1., 1.],\n",
       "        [1., 1., 1.],\n",
       "        [1., 1., 1.],\n",
       "        [1., 1., 1.],\n",
       "        [1., 1., 1.],\n",
       "        [1., 1., 1.],\n",
       "        [1., 1., 1.],\n",
       "        [1., 1., 1.]])"
      ]
     },
     "execution_count": 4,
     "metadata": {},
     "output_type": "execute_result"
    }
   ],
   "source": [
    "image"
   ]
  },
  {
   "cell_type": "code",
   "execution_count": 5,
   "id": "2290bcbb",
   "metadata": {},
   "outputs": [],
   "source": [
    "kernel = torch.randn(3,3)"
   ]
  },
  {
   "cell_type": "code",
   "execution_count": 6,
   "id": "237a1de5",
   "metadata": {},
   "outputs": [
    {
     "data": {
      "text/plain": [
       "tensor([[ 0.4677,  2.5862,  0.8537],\n",
       "        [-0.0865, -0.3084, -0.1110],\n",
       "        [-0.3407,  0.1447, -0.2953]])"
      ]
     },
     "execution_count": 6,
     "metadata": {},
     "output_type": "execute_result"
    }
   ],
   "source": [
    "kernel"
   ]
  },
  {
   "cell_type": "code",
   "execution_count": 7,
   "id": "d6a0fd21",
   "metadata": {},
   "outputs": [],
   "source": [
    "output = torch.zeros(len(image) - len(kernel) + 1,len(image[0]) - len(kernel[0]) + 1)"
   ]
  },
  {
   "cell_type": "code",
   "execution_count": 8,
   "id": "07ea3894",
   "metadata": {},
   "outputs": [
    {
     "data": {
      "text/plain": [
       "tensor([[0.],\n",
       "        [0.],\n",
       "        [0.],\n",
       "        [0.],\n",
       "        [0.],\n",
       "        [0.],\n",
       "        [0.],\n",
       "        [0.],\n",
       "        [0.],\n",
       "        [0.]])"
      ]
     },
     "execution_count": 8,
     "metadata": {},
     "output_type": "execute_result"
    }
   ],
   "source": [
    "output"
   ]
  },
  {
   "cell_type": "code",
   "execution_count": 9,
   "id": "57fa7e6d",
   "metadata": {
    "scrolled": true
   },
   "outputs": [
    {
     "data": {
      "text/plain": [
       "tensor([[2.9103],\n",
       "        [2.9103],\n",
       "        [2.9103],\n",
       "        [2.9103],\n",
       "        [2.9103],\n",
       "        [2.9103],\n",
       "        [2.9103],\n",
       "        [2.9103],\n",
       "        [2.9103],\n",
       "        [2.9103]])"
      ]
     },
     "execution_count": 9,
     "metadata": {},
     "output_type": "execute_result"
    }
   ],
   "source": [
    "conv2d(image,kernel)"
   ]
  },
  {
   "cell_type": "code",
   "execution_count": 10,
   "id": "36e5498b",
   "metadata": {},
   "outputs": [
    {
     "data": {
      "text/plain": [
       "tensor([[ 0.4677,  2.5862,  0.8537],\n",
       "        [-0.0865, -0.3084, -0.1110],\n",
       "        [-0.3407,  0.1447, -0.2953]])"
      ]
     },
     "execution_count": 10,
     "metadata": {},
     "output_type": "execute_result"
    }
   ],
   "source": [
    "kernel"
   ]
  },
  {
   "cell_type": "code",
   "execution_count": 11,
   "id": "3d89a192",
   "metadata": {},
   "outputs": [
    {
     "data": {
      "text/plain": [
       "tensor([[1., 1., 1.],\n",
       "        [1., 1., 1.],\n",
       "        [1., 1., 1.]])"
      ]
     },
     "execution_count": 11,
     "metadata": {},
     "output_type": "execute_result"
    }
   ],
   "source": [
    "image[0:3,0:3]"
   ]
  },
  {
   "cell_type": "code",
   "execution_count": 12,
   "id": "ec41e8e9",
   "metadata": {},
   "outputs": [],
   "source": [
    "# solution better\n",
    "def conv2d(image, kernel):\n",
    "    output = torch.zeros(len(image) - len(kernel) + 1,len(image[0]) - len(kernel[0]) + 1)\n",
    "    for i in range(len(output)):\n",
    "        for j in range(len(output[0])):\n",
    "            output[i,j] = torch.sum(image[i:i+len(kernel),j:j+len(kernel[0])] * kernel)\n",
    "            \n",
    "    return output"
   ]
  }
 ],
 "metadata": {
  "kernelspec": {
   "display_name": "Python 3",
   "language": "python",
   "name": "python3"
  },
  "language_info": {
   "codemirror_mode": {
    "name": "ipython",
    "version": 3
   },
   "file_extension": ".py",
   "mimetype": "text/x-python",
   "name": "python",
   "nbconvert_exporter": "python",
   "pygments_lexer": "ipython3",
   "version": "3.6.13"
  }
 },
 "nbformat": 4,
 "nbformat_minor": 5
}
